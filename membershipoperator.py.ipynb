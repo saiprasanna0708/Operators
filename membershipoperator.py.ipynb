{
 "cells": [
  {
   "cell_type": "code",
   "execution_count": 2,
   "id": "6630e3d9-670f-4ef4-a705-22205eb29ac5",
   "metadata": {},
   "outputs": [
    {
     "name": "stdout",
     "output_type": "stream",
     "text": [
      "True\n"
     ]
    }
   ],
   "source": [
    "#Membership operator with in for list\n",
    "list1=['1','2','3']\n",
    "print('1' in list1)"
   ]
  },
  {
   "cell_type": "code",
   "execution_count": 7,
   "id": "ea1063e5-743d-4044-8044-81f171a6db70",
   "metadata": {},
   "outputs": [
    {
     "name": "stdout",
     "output_type": "stream",
     "text": [
      "False\n"
     ]
    }
   ],
   "source": [
    "#Membership operator with not in for list\n",
    "list2=['1','2','3']\n",
    "print('4' in list2)\n"
   ]
  },
  {
   "cell_type": "code",
   "execution_count": 8,
   "id": "211f46e5-fa91-4f6c-a64e-14764e2ec5ca",
   "metadata": {},
   "outputs": [
    {
     "name": "stdout",
     "output_type": "stream",
     "text": [
      "True\n"
     ]
    }
   ],
   "source": [
    "tuple1=('1','2','3')\n",
    "print('3' in tuple1)"
   ]
  },
  {
   "cell_type": "code",
   "execution_count": 12,
   "id": "d972ff0f-c721-4ccc-a4ef-cb45a33e066b",
   "metadata": {},
   "outputs": [
    {
     "name": "stdout",
     "output_type": "stream",
     "text": [
      "True\n"
     ]
    }
   ],
   "source": [
    "tuple2=('1','2','3','4')\n",
    "print('9' not in tuple2)"
   ]
  },
  {
   "cell_type": "code",
   "execution_count": 27,
   "id": "6ce0adaa-48ac-4d02-8be5-62a821f14660",
   "metadata": {},
   "outputs": [
    {
     "name": "stdout",
     "output_type": "stream",
     "text": [
      "{8, 9, 10, 7}\n",
      "True\n",
      "False\n"
     ]
    }
   ],
   "source": [
    "set1={7,8,9,10}\n",
    "print(set1)\n",
    "print(10 in set1)\n",
    "print(9 not in set1)\n",
    "\n"
   ]
  },
  {
   "cell_type": "code",
   "execution_count": 26,
   "id": "75c74ca3-0ce8-4551-b1f8-a1f8ca57f764",
   "metadata": {},
   "outputs": [
    {
     "name": "stdout",
     "output_type": "stream",
     "text": [
      "True\n",
      "True\n"
     ]
    }
   ],
   "source": [
    "dictionary1={'alice':20}\n",
    "print('alice' in dictionary1)\n",
    "print('ajith' not in dictionary1)"
   ]
  },
  {
   "cell_type": "code",
   "execution_count": null,
   "id": "8d8dbdbc-d668-4c32-b6cc-54a09b868966",
   "metadata": {},
   "outputs": [],
   "source": []
  },
  {
   "cell_type": "code",
   "execution_count": null,
   "id": "37b22554-8dd6-4698-a031-493983d280de",
   "metadata": {},
   "outputs": [],
   "source": []
  }
 ],
 "metadata": {
  "kernelspec": {
   "display_name": "Python 3 (ipykernel)",
   "language": "python",
   "name": "python3"
  },
  "language_info": {
   "codemirror_mode": {
    "name": "ipython",
    "version": 3
   },
   "file_extension": ".py",
   "mimetype": "text/x-python",
   "name": "python",
   "nbconvert_exporter": "python",
   "pygments_lexer": "ipython3",
   "version": "3.13.5"
  }
 },
 "nbformat": 4,
 "nbformat_minor": 5
}
